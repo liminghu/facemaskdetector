{
  "nbformat": 4,
  "nbformat_minor": 0,
  "metadata": {
    "colab": {
      "name": "MobileNetV3-facemask_classifier.ipynb",
      "provenance": [],
      "collapsed_sections": []
    },
    "kernelspec": {
      "name": "python3",
      "display_name": "Python 3"
    }
  },
  "cells": [
    {
      "cell_type": "code",
      "metadata": {
        "id": "z0HNQZOI_iez"
      },
      "source": [
        "#This python notebook will train a facemask classifier based on MobileNetV3 for face images without mask and face images with mask.\r\n",
        "#reference: \r\n",
        "#https://www.pyimagesearch.com/2020/05/04/covid-19-face-mask-detector-with-opencv-keras-tensorflow-and-deep-learning/"
      ],
      "execution_count": null,
      "outputs": []
    },
    {
      "cell_type": "code",
      "metadata": {
        "id": "ckBTy9f3YUiR"
      },
      "source": [
        "from tensorflow.keras.preprocessing.image import ImageDataGenerator\r\n",
        "#MobileNetV3-Large is 3.2% more accurate on ImageNet classification while reducing latency by 15% compared to MobileNetV2. MobileNetV3-Small is 4.6% \r\n",
        "#more accurate while reducing latency by 5% compared to MobileNetV2. MobileNetV3-Large detection is 25% faster at roughly the same accuracy as \r\n",
        "#MobileNetV2 on COCO detection. \r\n",
        "#MobileNetV3-Large LR-ASPP is 30% faster than MobileNetV2 R-ASPP at similar accuracy for Cityscapes segmentation.\r\n",
        "from tensorflow.keras.applications import MobileNetV2\r\n",
        "#from tensorflow.keras.applications import MobileNetV3Small\r\n",
        "#from tensorflow.keras.applications import MobileNetV3Large\r\n",
        "from tensorflow.keras.layers import AveragePooling2D\r\n",
        "from tensorflow.keras.layers import Dropout\r\n",
        "from tensorflow.keras.layers import Flatten\r\n",
        "from tensorflow.keras.layers import Dense\r\n",
        "from tensorflow.keras.layers import Input\r\n",
        "from tensorflow.keras.models import Model\r\n",
        "from tensorflow.keras.optimizers import Adam\r\n",
        "from tensorflow.keras.applications.mobilenet_v2 import preprocess_input\r\n",
        "from tensorflow.keras.preprocessing.image import img_to_array\r\n",
        "from tensorflow.keras.preprocessing.image import load_img\r\n",
        "from tensorflow.keras.utils import to_categorical\r\n",
        "from sklearn.preprocessing import LabelBinarizer\r\n",
        "from sklearn.model_selection import train_test_split\r\n",
        "from sklearn.metrics import classification_report\r\n",
        "from imutils import paths\r\n",
        "import matplotlib.pyplot as plt\r\n",
        "import numpy as np\r\n",
        "import argparse\r\n",
        "import os"
      ],
      "execution_count": null,
      "outputs": []
    },
    {
      "cell_type": "code",
      "metadata": {
        "colab": {
          "base_uri": "https://localhost:8080/"
        },
        "id": "0C5rN-ZaXpLP",
        "outputId": "6d5b2874-7ff9-48f7-b9da-a48285874ed9"
      },
      "source": [
        "from google.colab import drive\r\n",
        "drive.mount('/content/drive')"
      ],
      "execution_count": null,
      "outputs": [
        {
          "output_type": "stream",
          "text": [
            "Mounted at /content/drive\n"
          ],
          "name": "stdout"
        }
      ]
    },
    {
      "cell_type": "code",
      "metadata": {
        "colab": {
          "base_uri": "https://localhost:8080/"
        },
        "id": "DEGEJikyXswb",
        "outputId": "64e809e5-04c7-43e0-dfe7-2d999b673774"
      },
      "source": [
        "%cd drive/MyDrive/Yolo/Face_Mask_detection/dataset"
      ],
      "execution_count": null,
      "outputs": [
        {
          "output_type": "stream",
          "text": [
            "/content/drive/MyDrive/Yolo/Face_Mask_detection/dataset\n"
          ],
          "name": "stdout"
        }
      ]
    },
    {
      "cell_type": "code",
      "metadata": {
        "colab": {
          "base_uri": "https://localhost:8080/"
        },
        "id": "xDgiwc0edqny",
        "outputId": "69264ec9-388e-4658-eeb5-b7f70f83ec6e"
      },
      "source": [
        "%cd drive/MyDrive/Yolo/Face_Mask_detection/\r\n",
        "%pwd\r\n",
        "%cd .."
      ],
      "execution_count": null,
      "outputs": [
        {
          "output_type": "stream",
          "text": [
            "[Errno 2] No such file or directory: 'drive/MyDrive/Yolo/Face_Mask_detection/'\n",
            "/content/drive/MyDrive/Yolo/Face_Mask_detection/dataset\n",
            "/content/drive/MyDrive/Yolo/Face_Mask_detection\n"
          ],
          "name": "stdout"
        }
      ]
    },
    {
      "cell_type": "code",
      "metadata": {
        "colab": {
          "base_uri": "https://localhost:8080/"
        },
        "id": "wngPSAVVjSWI",
        "outputId": "0a876fcc-aedd-4719-f2d8-f27c6b8fa908"
      },
      "source": [
        "%ls -la dataset/with_mask/* | wc -l\r\n",
        "%ls -la dataset/without_mask/* | wc -l  "
      ],
      "execution_count": null,
      "outputs": [
        {
          "output_type": "stream",
          "text": [
            "1116\n",
            "2089\n"
          ],
          "name": "stdout"
        }
      ]
    },
    {
      "cell_type": "code",
      "metadata": {
        "id": "lYFWpZqc_0sa",
        "colab": {
          "base_uri": "https://localhost:8080/",
          "height": 180
        },
        "outputId": "3b827cc8-428e-4ee4-d730-31808fcde8c1"
      },
      "source": [
        "# construct the argument parser and parse the arguments\r\n",
        "ap = argparse.ArgumentParser()\r\n",
        "ap.add_argument(\"-d\", \"--dataset\", required=True, \r\n",
        "                help=\"path to input dataset\")\r\n",
        "ap.add_argument(\"-p\", \"--plot\", type=str, default=\"plot.png\", \r\n",
        "                help=\"path to output loss/accuracy plot\")\r\n",
        "ap.add_argument(\"-m\", \"--model\", type=str, default=\"mask_detector.model\",\r\n",
        "                help=\"path to output face mask detector model\")\r\n",
        "#args = vars(ap.parse_args())"
      ],
      "execution_count": null,
      "outputs": [
        {
          "output_type": "stream",
          "text": [
            "usage: ipykernel_launcher.py [-h] -d DATASET [-p PLOT] [-m MODEL]\n",
            "ipykernel_launcher.py: error: the following arguments are required: -d/--dataset\n"
          ],
          "name": "stderr"
        },
        {
          "output_type": "error",
          "ename": "SystemExit",
          "evalue": "ignored",
          "traceback": [
            "An exception has occurred, use %tb to see the full traceback.\n",
            "\u001b[0;31mSystemExit\u001b[0m\u001b[0;31m:\u001b[0m 2\n"
          ]
        },
        {
          "output_type": "stream",
          "text": [
            "/usr/local/lib/python3.6/dist-packages/IPython/core/interactiveshell.py:2890: UserWarning: To exit: use 'exit', 'quit', or Ctrl-D.\n",
            "  warn(\"To exit: use 'exit', 'quit', or Ctrl-D.\", stacklevel=1)\n"
          ],
          "name": "stderr"
        }
      ]
    },
    {
      "cell_type": "code",
      "metadata": {
        "colab": {
          "base_uri": "https://localhost:8080/",
          "height": 180
        },
        "id": "B75pe_HogtUq",
        "outputId": "972472e4-a462-4def-b594-030012436753"
      },
      "source": [
        "# construct the argument parser and parse the arguments\r\n",
        "ap = argparse.ArgumentParser()\r\n",
        "ap.add_argument(\"-d\", \"--dataset\", default='dataset', \r\n",
        "                help=\"path to input dataset\")\r\n",
        "ap.add_argument(\"-p\", \"--plot\", type=str, default=\"plot.png\", \r\n",
        "                help=\"path to output loss/accuracy plot\")\r\n",
        "ap.add_argument(\"-m\", \"--model\", type=str, default=\"mask_detector.model\",\r\n",
        "                help=\"path to output face mask detector model\")\r\n",
        "#args = vars(ap.parse_args())"
      ],
      "execution_count": null,
      "outputs": [
        {
          "output_type": "stream",
          "text": [
            "usage: ipykernel_launcher.py [-h] [-d DATASET] [-p PLOT] [-m MODEL]\n",
            "ipykernel_launcher.py: error: unrecognized arguments: -f /root/.local/share/jupyter/runtime/kernel-6b9c0eb6-5e0f-4905-8f8e-210765b361b2.json\n"
          ],
          "name": "stderr"
        },
        {
          "output_type": "error",
          "ename": "SystemExit",
          "evalue": "ignored",
          "traceback": [
            "An exception has occurred, use %tb to see the full traceback.\n",
            "\u001b[0;31mSystemExit\u001b[0m\u001b[0;31m:\u001b[0m 2\n"
          ]
        },
        {
          "output_type": "stream",
          "text": [
            "/usr/local/lib/python3.6/dist-packages/IPython/core/interactiveshell.py:2890: UserWarning: To exit: use 'exit', 'quit', or Ctrl-D.\n",
            "  warn(\"To exit: use 'exit', 'quit', or Ctrl-D.\", stacklevel=1)\n"
          ],
          "name": "stderr"
        }
      ]
    },
    {
      "cell_type": "code",
      "metadata": {
        "id": "4sr2AoWD_6tS"
      },
      "source": [
        "# initialize the initial learning rate, number of epochs to train for,\r\n",
        "# and batch size\r\n",
        "INIT_LR = 1e-4\r\n",
        "EPOCHS = 40\r\n",
        "BS = 32"
      ],
      "execution_count": null,
      "outputs": []
    },
    {
      "cell_type": "code",
      "metadata": {
        "id": "ijr4pPhT_-uu",
        "colab": {
          "base_uri": "https://localhost:8080/"
        },
        "outputId": "f5c562cc-1bd7-4da2-9275-0919bed20680"
      },
      "source": [
        "# grab the list of images in our dataset directory, then initialize\r\n",
        "# the list of data (i.e., images) and class images\r\n",
        "print(\"[INFO] loading images...\")\r\n",
        "#imagePaths = list(paths.list_images(args[\"dataset\"]))\r\n",
        "imagePaths = list(paths.list_images(\"/content/drive/MyDrive/Yolo/Face_Mask_detection/dataset\"))\r\n",
        "data = []\r\n",
        "labels = []\r\n",
        "# loop over the image paths\r\n",
        "for imagePath in imagePaths:\r\n",
        "\t# extract the class label from the filename\r\n",
        "\tlabel = imagePath.split(os.path.sep)[-2]\r\n",
        "\t# load the input image (224x224) and preprocess it\r\n",
        "\timage = load_img(imagePath, target_size=(224, 224))\r\n",
        "\timage = img_to_array(image)\r\n",
        "\timage = preprocess_input(image)\r\n",
        "\t# update the data and labels lists, respectively\r\n",
        "\tdata.append(image)\r\n",
        "\tlabels.append(label)\r\n",
        "# convert the data and labels to NumPy arrays\r\n",
        "data = np.array(data, dtype=\"float32\")\r\n",
        "labels = np.array(labels)"
      ],
      "execution_count": null,
      "outputs": [
        {
          "output_type": "stream",
          "text": [
            "[INFO] loading images...\n"
          ],
          "name": "stdout"
        }
      ]
    },
    {
      "cell_type": "code",
      "metadata": {
        "id": "XIAfU4HTAB59"
      },
      "source": [
        "# perform one-hot encoding on the labels\r\n",
        "lb = LabelBinarizer()\r\n",
        "labels = lb.fit_transform(labels)\r\n",
        "labels = to_categorical(labels)\r\n",
        "# partition the data into training and testing splits using 80% of\r\n",
        "# the data for training and the remaining 20% for testing\r\n",
        "(trainX, testX, trainY, testY) = train_test_split(data, labels,\r\n",
        "\ttest_size=0.20, stratify=labels, random_state=42)\r\n",
        "# construct the training image generator for data augmentation\r\n",
        "aug = ImageDataGenerator(\r\n",
        "\trotation_range=20,\r\n",
        "\tzoom_range=0.15,\r\n",
        "\twidth_shift_range=0.2,\r\n",
        "\theight_shift_range=0.2,\r\n",
        "\tshear_range=0.15,\r\n",
        "\thorizontal_flip=True,\r\n",
        "\tfill_mode=\"nearest\")"
      ],
      "execution_count": null,
      "outputs": []
    },
    {
      "cell_type": "code",
      "metadata": {
        "id": "lNmioKaJAExU"
      },
      "source": [
        "#$ python  train_mask_detector.py --dataset  dataset \r\n",
        "#[INFO] loading images...\r\n",
        "#-> (trainX, testX, trainY, testY) = train_test_split(data, labels,\r\n",
        "#(Pdb) labels[500:]\r\n",
        "#array([[1., 0.],\r\n",
        "#       [1., 0.],\r\n",
        "#       [1., 0.],\r\n",
        "#       ...,\r\n",
        "#       [0., 1.],\r\n",
        "#       [0., 1.],\r\n",
        "#       [0., 1.]], dtype=float32)\r\n",
        "#(Pdb)"
      ],
      "execution_count": null,
      "outputs": []
    },
    {
      "cell_type": "code",
      "metadata": {
        "id": "NYwnwetQAKa8",
        "colab": {
          "base_uri": "https://localhost:8080/"
        },
        "outputId": "3add8e63-2890-4910-bb12-6189e71a1111"
      },
      "source": [
        "# load the MobileNetV3 network, ensuring the head FC layer sets are\r\n",
        "# left off\r\n",
        "baseModel = MobileNetV2(weights=\"imagenet\", include_top=False,\r\n",
        "\tinput_tensor=Input(shape=(224, 224, 3)))\r\n",
        "#baseModel = MobileNetV3Small(weights=\"imagenet\", include_top=False,\r\n",
        "#\tinput_tensor=Input(shape=(224, 224, 3)))\r\n",
        "#baseModel = MobileNetV3Large(weights=\"imagenet\", include_top=False,\r\n",
        "#\tinput_tensor=Input(shape=(224, 224, 3)))\r\n",
        "\r\n",
        "# construct the head of the model that will be placed on top of the\r\n",
        "# the base model\r\n",
        "headModel = baseModel.output\r\n",
        "headModel = AveragePooling2D(pool_size=(7, 7))(headModel)\r\n",
        "headModel = Flatten(name=\"flatten\")(headModel)\r\n",
        "headModel = Dense(128, activation=\"relu\")(headModel)\r\n",
        "headModel = Dropout(0.5)(headModel)\r\n",
        "headModel = Dense(2, activation=\"softmax\")(headModel)\r\n",
        "# place the head FC model on top of the base model (this will become\r\n",
        "# the actual model we will train)\r\n",
        "model = Model(inputs=baseModel.input, outputs=headModel)\r\n",
        "# loop over all layers in the base model and freeze them so they will\r\n",
        "# *not* be updated during the first training process\r\n",
        "for layer in baseModel.layers:\r\n",
        "\tlayer.trainable = False"
      ],
      "execution_count": null,
      "outputs": [
        {
          "output_type": "stream",
          "text": [
            "WARNING:tensorflow:`input_shape` is undefined or non-square, or `rows` is not in [96, 128, 160, 192, 224]. Weights for input shape (224, 224) will be loaded as the default.\n",
            "Downloading data from https://storage.googleapis.com/tensorflow/keras-applications/mobilenet_v2/mobilenet_v2_weights_tf_dim_ordering_tf_kernels_1.0_224_no_top.h5\n",
            "9412608/9406464 [==============================] - 0s 0us/step\n"
          ],
          "name": "stdout"
        }
      ]
    },
    {
      "cell_type": "code",
      "metadata": {
        "id": "4_utpIzbANz4",
        "colab": {
          "base_uri": "https://localhost:8080/"
        },
        "outputId": "9df6b1d1-878d-4d74-ada2-70a28c92c498"
      },
      "source": [
        "# compile our model\r\n",
        "print(\"[INFO] compiling model...\")\r\n",
        "opt = Adam(lr=INIT_LR, decay=INIT_LR / EPOCHS)\r\n",
        "model.compile(loss=\"binary_crossentropy\", optimizer=opt,\r\n",
        "\tmetrics=[\"accuracy\"])\r\n",
        "# train the head of the network\r\n",
        "print(\"[INFO] training head...\")\r\n",
        "H = model.fit(\r\n",
        "\taug.flow(trainX, trainY, batch_size=BS),\r\n",
        "\tsteps_per_epoch=len(trainX) // BS,\r\n",
        "\tvalidation_data=(testX, testY),\r\n",
        "\tvalidation_steps=len(testX) // BS,\r\n",
        "\tepochs=EPOCHS)"
      ],
      "execution_count": null,
      "outputs": [
        {
          "output_type": "stream",
          "text": [
            "[INFO] compiling model...\n",
            "[INFO] training head...\n",
            "Epoch 1/40\n",
            "80/80 [==============================] - 134s 2s/step - loss: 0.7167 - accuracy: 0.6211 - val_loss: 0.3615 - val_accuracy: 0.8768\n",
            "Epoch 2/40\n",
            "80/80 [==============================] - 130s 2s/step - loss: 0.3962 - accuracy: 0.8314 - val_loss: 0.2769 - val_accuracy: 0.8955\n",
            "Epoch 3/40\n",
            "80/80 [==============================] - 130s 2s/step - loss: 0.3125 - accuracy: 0.8638 - val_loss: 0.2450 - val_accuracy: 0.9095\n",
            "Epoch 4/40\n",
            "80/80 [==============================] - 130s 2s/step - loss: 0.2910 - accuracy: 0.8707 - val_loss: 0.2293 - val_accuracy: 0.9095\n",
            "Epoch 5/40\n",
            "80/80 [==============================] - 131s 2s/step - loss: 0.2709 - accuracy: 0.8826 - val_loss: 0.2200 - val_accuracy: 0.9158\n",
            "Epoch 6/40\n",
            "80/80 [==============================] - 130s 2s/step - loss: 0.2386 - accuracy: 0.8987 - val_loss: 0.2079 - val_accuracy: 0.9189\n",
            "Epoch 7/40\n",
            "80/80 [==============================] - 131s 2s/step - loss: 0.2407 - accuracy: 0.8884 - val_loss: 0.1982 - val_accuracy: 0.9236\n",
            "Epoch 8/40\n",
            "80/80 [==============================] - 130s 2s/step - loss: 0.2081 - accuracy: 0.9128 - val_loss: 0.1951 - val_accuracy: 0.9220\n",
            "Epoch 9/40\n",
            "80/80 [==============================] - 130s 2s/step - loss: 0.2063 - accuracy: 0.9153 - val_loss: 0.1898 - val_accuracy: 0.9267\n",
            "Epoch 10/40\n",
            "80/80 [==============================] - 130s 2s/step - loss: 0.2151 - accuracy: 0.9087 - val_loss: 0.1847 - val_accuracy: 0.9314\n",
            "Epoch 11/40\n",
            "80/80 [==============================] - 130s 2s/step - loss: 0.1932 - accuracy: 0.9204 - val_loss: 0.1799 - val_accuracy: 0.9329\n",
            "Epoch 12/40\n",
            "80/80 [==============================] - 130s 2s/step - loss: 0.1992 - accuracy: 0.9191 - val_loss: 0.1793 - val_accuracy: 0.9360\n",
            "Epoch 13/40\n",
            "80/80 [==============================] - 130s 2s/step - loss: 0.1953 - accuracy: 0.9178 - val_loss: 0.1734 - val_accuracy: 0.9314\n",
            "Epoch 14/40\n",
            "80/80 [==============================] - 130s 2s/step - loss: 0.1819 - accuracy: 0.9182 - val_loss: 0.1689 - val_accuracy: 0.9329\n",
            "Epoch 15/40\n",
            "80/80 [==============================] - 131s 2s/step - loss: 0.1773 - accuracy: 0.9290 - val_loss: 0.1654 - val_accuracy: 0.9407\n",
            "Epoch 16/40\n",
            "80/80 [==============================] - 129s 2s/step - loss: 0.1490 - accuracy: 0.9431 - val_loss: 0.1641 - val_accuracy: 0.9407\n",
            "Epoch 17/40\n",
            "80/80 [==============================] - 129s 2s/step - loss: 0.1736 - accuracy: 0.9264 - val_loss: 0.1602 - val_accuracy: 0.9423\n",
            "Epoch 18/40\n",
            "80/80 [==============================] - 129s 2s/step - loss: 0.1669 - accuracy: 0.9379 - val_loss: 0.1569 - val_accuracy: 0.9438\n",
            "Epoch 19/40\n",
            "80/80 [==============================] - 131s 2s/step - loss: 0.1648 - accuracy: 0.9391 - val_loss: 0.1545 - val_accuracy: 0.9485\n",
            "Epoch 20/40\n",
            "80/80 [==============================] - 130s 2s/step - loss: 0.1595 - accuracy: 0.9347 - val_loss: 0.1527 - val_accuracy: 0.9454\n",
            "Epoch 21/40\n",
            "80/80 [==============================] - 130s 2s/step - loss: 0.1670 - accuracy: 0.9307 - val_loss: 0.1539 - val_accuracy: 0.9438\n",
            "Epoch 22/40\n",
            "80/80 [==============================] - 130s 2s/step - loss: 0.1642 - accuracy: 0.9361 - val_loss: 0.1489 - val_accuracy: 0.9470\n",
            "Epoch 23/40\n",
            "80/80 [==============================] - 130s 2s/step - loss: 0.1382 - accuracy: 0.9470 - val_loss: 0.1460 - val_accuracy: 0.9485\n",
            "Epoch 24/40\n",
            "80/80 [==============================] - 130s 2s/step - loss: 0.1638 - accuracy: 0.9314 - val_loss: 0.1475 - val_accuracy: 0.9470\n",
            "Epoch 25/40\n",
            "80/80 [==============================] - 130s 2s/step - loss: 0.1524 - accuracy: 0.9384 - val_loss: 0.1482 - val_accuracy: 0.9454\n",
            "Epoch 26/40\n",
            "80/80 [==============================] - 130s 2s/step - loss: 0.1446 - accuracy: 0.9477 - val_loss: 0.1466 - val_accuracy: 0.9470\n",
            "Epoch 27/40\n",
            "80/80 [==============================] - 130s 2s/step - loss: 0.1541 - accuracy: 0.9360 - val_loss: 0.1449 - val_accuracy: 0.9532\n",
            "Epoch 28/40\n",
            "80/80 [==============================] - 130s 2s/step - loss: 0.1455 - accuracy: 0.9458 - val_loss: 0.1467 - val_accuracy: 0.9532\n",
            "Epoch 29/40\n",
            "80/80 [==============================] - 130s 2s/step - loss: 0.1431 - accuracy: 0.9482 - val_loss: 0.1428 - val_accuracy: 0.9532\n",
            "Epoch 30/40\n",
            "80/80 [==============================] - 130s 2s/step - loss: 0.1368 - accuracy: 0.9530 - val_loss: 0.1443 - val_accuracy: 0.9532\n",
            "Epoch 31/40\n",
            "80/80 [==============================] - 130s 2s/step - loss: 0.1437 - accuracy: 0.9431 - val_loss: 0.1402 - val_accuracy: 0.9548\n",
            "Epoch 32/40\n",
            "80/80 [==============================] - 130s 2s/step - loss: 0.1228 - accuracy: 0.9572 - val_loss: 0.1381 - val_accuracy: 0.9563\n",
            "Epoch 33/40\n",
            "80/80 [==============================] - 130s 2s/step - loss: 0.1287 - accuracy: 0.9469 - val_loss: 0.1386 - val_accuracy: 0.9579\n",
            "Epoch 34/40\n",
            "80/80 [==============================] - 128s 2s/step - loss: 0.1325 - accuracy: 0.9430 - val_loss: 0.1376 - val_accuracy: 0.9594\n",
            "Epoch 35/40\n",
            "80/80 [==============================] - 129s 2s/step - loss: 0.1331 - accuracy: 0.9488 - val_loss: 0.1381 - val_accuracy: 0.9594\n",
            "Epoch 36/40\n",
            "80/80 [==============================] - 129s 2s/step - loss: 0.1295 - accuracy: 0.9525 - val_loss: 0.1366 - val_accuracy: 0.9501\n",
            "Epoch 37/40\n",
            "80/80 [==============================] - 129s 2s/step - loss: 0.1459 - accuracy: 0.9356 - val_loss: 0.1330 - val_accuracy: 0.9594\n",
            "Epoch 38/40\n",
            "80/80 [==============================] - 130s 2s/step - loss: 0.1232 - accuracy: 0.9507 - val_loss: 0.1326 - val_accuracy: 0.9579\n",
            "Epoch 39/40\n",
            "80/80 [==============================] - 129s 2s/step - loss: 0.1192 - accuracy: 0.9563 - val_loss: 0.1354 - val_accuracy: 0.9579\n",
            "Epoch 40/40\n",
            "80/80 [==============================] - 129s 2s/step - loss: 0.1382 - accuracy: 0.9522 - val_loss: 0.1357 - val_accuracy: 0.9501\n"
          ],
          "name": "stdout"
        }
      ]
    },
    {
      "cell_type": "code",
      "metadata": {
        "id": "EwhPrxxuAQkg",
        "colab": {
          "base_uri": "https://localhost:8080/"
        },
        "outputId": "ad1ca6ac-b9b7-41e3-dc10-925e4d55ab0d"
      },
      "source": [
        "# make predictions on the testing set\r\n",
        "print(\"[INFO] evaluating network...\")\r\n",
        "predIdxs = model.predict(testX, batch_size=BS)\r\n",
        "# for each image in the testing set we need to find the index of the\r\n",
        "# label with corresponding largest predicted probability\r\n",
        "predIdxs = np.argmax(predIdxs, axis=1)\r\n",
        "# show a nicely formatted classification report\r\n",
        "print(classification_report(testY.argmax(axis=1), predIdxs,\r\n",
        "\ttarget_names=lb.classes_))\r\n",
        "# serialize the model to disk\r\n",
        "print(\"[INFO] saving mask detector model...\")\r\n",
        "#model.save(args[\"model\"], save_format=\"h5\")\r\n",
        "model.save(\"mobilenetv2_mask_detector.model\", save_format=\"h5\")"
      ],
      "execution_count": null,
      "outputs": [
        {
          "output_type": "stream",
          "text": [
            "[INFO] evaluating network...\n",
            "              precision    recall  f1-score   support\n",
            "\n",
            "   with_mask       0.98      0.88      0.92       223\n",
            "without_mask       0.94      0.99      0.96       418\n",
            "\n",
            "    accuracy                           0.95       641\n",
            "   macro avg       0.96      0.93      0.94       641\n",
            "weighted avg       0.95      0.95      0.95       641\n",
            "\n",
            "[INFO] saving mask detector model...\n"
          ],
          "name": "stdout"
        }
      ]
    },
    {
      "cell_type": "code",
      "metadata": {
        "id": "L0IXSM8hAT-x",
        "colab": {
          "base_uri": "https://localhost:8080/",
          "height": 299
        },
        "outputId": "2a4730ba-a783-4d4d-b96c-986174c4b799"
      },
      "source": [
        "# plot the training loss and accuracy\r\n",
        "N = EPOCHS\r\n",
        "plt.style.use(\"ggplot\")\r\n",
        "plt.figure()\r\n",
        "plt.plot(np.arange(0, N), H.history[\"loss\"], label=\"train_loss\")\r\n",
        "plt.plot(np.arange(0, N), H.history[\"val_loss\"], label=\"val_loss\")\r\n",
        "plt.plot(np.arange(0, N), H.history[\"accuracy\"], label=\"train_acc\")\r\n",
        "plt.plot(np.arange(0, N), H.history[\"val_accuracy\"], label=\"val_acc\")\r\n",
        "plt.title(\"Training Loss and Accuracy\")\r\n",
        "plt.xlabel(\"Epoch #\")\r\n",
        "plt.ylabel(\"Loss/Accuracy\")\r\n",
        "plt.legend(loc=\"lower left\")\r\n",
        "#plt.savefig(args[\"plot\"])\r\n",
        "plt.savefig(\"plot,png\")"
      ],
      "execution_count": null,
      "outputs": [
        {
          "output_type": "display_data",
          "data": {
            "image/png": "[encoded data removed]",
            "text/plain": [
              "<Figure size 432x288 with 1 Axes>"
            ]
          },
          "metadata": {
            "tags": []
          }
        }
      ]
    },
    {
      "cell_type": "code",
      "metadata": {
        "colab": {
          "base_uri": "https://localhost:8080/"
        },
        "id": "H2APb3iUtjhy",
        "outputId": "f230e63e-289d-4a70-ea40-3e189ec1a616"
      },
      "source": [
        "# Converts the Keras model to TensorFlow Lite\r\n",
        "import tensorflow.lite as lite\r\n",
        "\r\n",
        "input_file = \"mobilenetv2_mask_detector.model\"\r\n",
        "output_file = \"/content/drive/MyDrive/Yolo/Face_Mask_detection/mobilenetv2_mask_detector.tflite\"\r\n",
        "\r\n",
        "#converter = lite.TocoConverter.from_keras_model_file(input_file)\r\n",
        "#converter = lite.TFLiteConverter.from_saved_model(input_file)\r\n",
        "converter = lite.TFLiteConverter.from_keras_model(model)\r\n",
        "tflite_model = converter.convert()\r\n",
        "open(output_file, \"wb\").write(tflite_model)\r\n"
      ],
      "execution_count": null,
      "outputs": [
        {
          "output_type": "stream",
          "text": [
            "INFO:tensorflow:Assets written to: /tmp/tmpzu0mjh3v/assets\n"
          ],
          "name": "stdout"
        },
        {
          "output_type": "execute_result",
          "data": {
            "text/plain": [
              "9515960"
            ]
          },
          "metadata": {
            "tags": []
          },
          "execution_count": 22
        }
      ]
    },
    {
      "cell_type": "code",
      "metadata": {
        "colab": {
          "base_uri": "https://localhost:8080/"
        },
        "id": "kLeNdSb0DUeh",
        "outputId": "bb89894f-5c68-40fd-c7e5-fa932d746ae4"
      },
      "source": [
        "%ls"
      ],
      "execution_count": null,
      "outputs": [
        {
          "output_type": "stream",
          "text": [
            "\u001b[0m\u001b[01;34mdarknet\u001b[0m/                          plot,png.png           yolo_data.cache\n",
            "\u001b[01;34mdataset\u001b[0m/                          README.md              \u001b[01;34myolov4-csp\u001b[0m/\n",
            "\u001b[01;34mFace_Mask_data\u001b[0m/                   \u001b[01;34mREADME_pix\u001b[0m/            yolov4-csp.ipynb\n",
            "mobilenetv2_mask_detector.model   xml_covert_to_yolo.py\n",
            "mobilenetv2_mask_detector.tflite  \u001b[01;34myolo_data\u001b[0m/\n"
          ],
          "name": "stdout"
        }
      ]
    },
    {
      "cell_type": "code",
      "metadata": {
        "id": "Sq0x3dXTAWng"
      },
      "source": [
        "# import the necessary packages\r\n",
        "#from tensorflow.keras.applications.mobilenet_v2 import preprocess_input\r\n",
        "from tensorflow.keras.applications.mobilenet_v3 import preprocess_input\r\n",
        "from tensorflow.keras.preprocessing.image import img_to_array\r\n",
        "from tensorflow.keras.models import load_model\r\n",
        "import numpy as np\r\n",
        "import argparse\r\n",
        "import cv2\r\n",
        "import os"
      ],
      "execution_count": null,
      "outputs": []
    },
    {
      "cell_type": "code",
      "metadata": {
        "id": "qOGzxTFiAbWV"
      },
      "source": [
        "# construct the argument parser and parse the arguments\r\n",
        "ap = argparse.ArgumentParser()\r\n",
        "ap.add_argument(\"-i\", \"--image\", required=True,\r\n",
        "\thelp=\"path to input image\")\r\n",
        "ap.add_argument(\"-f\", \"--face\", type=str,\r\n",
        "\tdefault=\"face_detector\",\r\n",
        "\thelp=\"path to face detector model directory\")\r\n",
        "ap.add_argument(\"-m\", \"--model\", type=str,\r\n",
        "\tdefault=\"mask_detector.model\",\r\n",
        "\thelp=\"path to trained face mask detector model\")\r\n",
        "ap.add_argument(\"-c\", \"--confidence\", type=float, default=0.5,\r\n",
        "\thelp=\"minimum probability to filter weak detections\")\r\n",
        "#args = vars(ap.parse_args())"
      ],
      "execution_count": null,
      "outputs": []
    },
    {
      "cell_type": "code",
      "metadata": {
        "id": "-u4inyHGAd-r"
      },
      "source": [
        "# load our serialized face detector model from disk\r\n",
        "print(\"[INFO] loading face detector model...\")\r\n",
        "#prototxtPath = os.path.sep.join([args[\"face\"], \"deploy.prototxt\"])\r\n",
        "#weightsPath = os.path.sep.join([args[\"face\"],\r\n",
        "#\t\"res10_300x300_ssd_iter_140000.caffemodel\"])\r\n",
        "#net = cv2.dnn.readNet(prototxtPath, weightsPath)\r\n",
        "# load the face mask detector model from disk\r\n",
        "print(\"[INFO] loading face mask detector model...\")\r\n",
        "model = load_model(\"facemask_classifier.h5\") #args[\"model\"])"
      ],
      "execution_count": null,
      "outputs": []
    },
    {
      "cell_type": "code",
      "metadata": {
        "id": "yfLZXXe3AjAj"
      },
      "source": [
        "# load the input image from disk, clone it, and grab the image spatial\r\n",
        "# dimensions\r\n",
        "image = cv2.imread(args[\"image\"])\r\n",
        "orig = image.copy()\r\n",
        "(h, w) = image.shape[:2]\r\n",
        "# construct a blob from the image\r\n",
        "blob = cv2.dnn.blobFromImage(image, 1.0, (300, 300),\r\n",
        "\t(104.0, 177.0, 123.0))\r\n",
        "# pass the blob through the network and obtain the face detections\r\n",
        "print(\"[INFO] computing face detections...\")\r\n",
        "net.setInput(blob)\r\n",
        "detections = net.forward()"
      ],
      "execution_count": null,
      "outputs": []
    },
    {
      "cell_type": "code",
      "metadata": {
        "id": "75jMnNTWAkHT"
      },
      "source": [
        "# loop over the detections\r\n",
        "for i in range(0, detections.shape[2]):\r\n",
        "\t# extract the confidence (i.e., probability) associated with\r\n",
        "\t# the detection\r\n",
        "\tconfidence = detections[0, 0, i, 2]\r\n",
        "\t# filter out weak detections by ensuring the confidence is\r\n",
        "\t# greater than the minimum confidence\r\n",
        "\tif confidence > args[\"confidence\"]:\r\n",
        "\t\t# compute the (x, y)-coordinates of the bounding box for\r\n",
        "\t\t# the object\r\n",
        "\t\tbox = detections[0, 0, i, 3:7] * np.array([w, h, w, h])\r\n",
        "\t\t(startX, startY, endX, endY) = box.astype(\"int\")\r\n",
        "\t\t# ensure the bounding boxes fall within the dimensions of\r\n",
        "\t\t# the frame\r\n",
        "\t\t(startX, startY) = (max(0, startX), max(0, startY))\r\n",
        "\t\t(endX, endY) = (min(w - 1, endX), min(h - 1, endY))"
      ],
      "execution_count": null,
      "outputs": []
    },
    {
      "cell_type": "code",
      "metadata": {
        "id": "szJGD33dAngx"
      },
      "source": [
        "\t# extract the face ROI, convert it from BGR to RGB channel\r\n",
        "\t\t# ordering, resize it to 224x224, and preprocess it\r\n",
        "\t\tface = image[startY:endY, startX:endX]\r\n",
        "\t\tface = cv2.cvtColor(face, cv2.COLOR_BGR2RGB)\r\n",
        "\t\tface = cv2.resize(face, (224, 224))\r\n",
        "\t\tface = img_to_array(face)\r\n",
        "\t\tface = preprocess_input(face)\r\n",
        "\t\tface = np.expand_dims(face, axis=0)\r\n",
        "\t\t# pass the face through the model to determine if the face\r\n",
        "\t\t# has a mask or not\r\n",
        "\t\t(mask, withoutMask) = model.predict(face)[0]"
      ],
      "execution_count": null,
      "outputs": []
    },
    {
      "cell_type": "code",
      "metadata": {
        "id": "f1XgVkV4AqpU"
      },
      "source": [
        "\t\t# determine the class label and color we'll use to draw\r\n",
        "\t\t# the bounding box and text\r\n",
        "\t\tlabel = \"Mask\" if mask > withoutMask else \"No Mask\"\r\n",
        "\t\tcolor = (0, 255, 0) if label == \"Mask\" else (0, 0, 255)\r\n",
        "\t\t# include the probability in the label\r\n",
        "\t\tlabel = \"{}: {:.2f}%\".format(label, max(mask, withoutMask) * 100)\r\n",
        "\t\t# display the label and bounding box rectangle on the output\r\n",
        "\t\t# frame\r\n",
        "\t\tcv2.putText(image, label, (startX, startY - 10),\r\n",
        "\t\t\tcv2.FONT_HERSHEY_SIMPLEX, 0.45, color, 2)\r\n",
        "\t\tcv2.rectangle(image, (startX, startY), (endX, endY), color, 2)\r\n",
        "# show the output image\r\n",
        "cv2.imshow(\"Output\", image)\r\n",
        "cv2.waitKey(0)"
      ],
      "execution_count": null,
      "outputs": []
    },
    {
      "cell_type": "code",
      "metadata": {
        "id": "yD3cIjwNAtIi"
      },
      "source": [
        "$ python detect_mask_image.py --image examples/example_01.png \r\n",
        "[INFO] loading face detector model...\r\n",
        "[INFO] loading face mask detector model...\r\n",
        "[INFO] computing face detections..."
      ],
      "execution_count": null,
      "outputs": []
    },
    {
      "cell_type": "code",
      "metadata": {
        "id": "TZDFuw1jAyQ0"
      },
      "source": [
        "$ python detect_mask_image.py --image examples/example_02.png \r\n",
        "[INFO] loading face detector model...\r\n",
        "[INFO] loading face mask detector model...\r\n",
        "[INFO] computing face detections..."
      ],
      "execution_count": null,
      "outputs": []
    },
    {
      "cell_type": "code",
      "metadata": {
        "id": "iMrm7xfIA65s"
      },
      "source": [
        "# import the necessary packages\r\n",
        "from tensorflow.keras.applications.mobilenet_v2 import preprocess_input\r\n",
        "from tensorflow.keras.preprocessing.image import img_to_array\r\n",
        "from tensorflow.keras.models import load_model\r\n",
        "from imutils.video import VideoStream\r\n",
        "import numpy as np\r\n",
        "import argparse\r\n",
        "import imutils\r\n",
        "import time\r\n",
        "import cv2\r\n",
        "import os"
      ],
      "execution_count": null,
      "outputs": []
    },
    {
      "cell_type": "code",
      "metadata": {
        "id": "xyO35pdiA98T"
      },
      "source": [
        "def detect_and_predict_mask(frame, faceNet, maskNet):\r\n",
        "\t# grab the dimensions of the frame and then construct a blob\r\n",
        "\t# from it\r\n",
        "\t(h, w) = frame.shape[:2]\r\n",
        "\tblob = cv2.dnn.blobFromImage(frame, 1.0, (300, 300),\r\n",
        "\t\t(104.0, 177.0, 123.0))\r\n",
        "\t# pass the blob through the network and obtain the face detections\r\n",
        "\tfaceNet.setInput(blob)\r\n",
        "\tdetections = faceNet.forward()\r\n",
        "\t# initialize our list of faces, their corresponding locations,\r\n",
        "\t# and the list of predictions from our face mask network\r\n",
        "\tfaces = []\r\n",
        "\tlocs = []\r\n",
        "\tpreds = []"
      ],
      "execution_count": null,
      "outputs": []
    },
    {
      "cell_type": "code",
      "metadata": {
        "id": "JUtPckCSBA7j"
      },
      "source": [
        "# loop over the detections\r\n",
        "\tfor i in range(0, detections.shape[2]):\r\n",
        "\t\t# extract the confidence (i.e., probability) associated with\r\n",
        "\t\t# the detection\r\n",
        "\t\tconfidence = detections[0, 0, i, 2]\r\n",
        "\t\t# filter out weak detections by ensuring the confidence is\r\n",
        "\t\t# greater than the minimum confidence\r\n",
        "\t\tif confidence > args[\"confidence\"]:\r\n",
        "\t\t\t# compute the (x, y)-coordinates of the bounding box for\r\n",
        "\t\t\t# the object\r\n",
        "\t\t\tbox = detections[0, 0, i, 3:7] * np.array([w, h, w, h])\r\n",
        "\t\t\t(startX, startY, endX, endY) = box.astype(\"int\")\r\n",
        "\t\t\t# ensure the bounding boxes fall within the dimensions of\r\n",
        "\t\t\t# the frame\r\n",
        "\t\t\t(startX, startY) = (max(0, startX), max(0, startY))\r\n",
        "\t\t\t(endX, endY) = (min(w - 1, endX), min(h - 1, endY))"
      ],
      "execution_count": null,
      "outputs": []
    },
    {
      "cell_type": "code",
      "metadata": {
        "id": "SN0CwHDrBD0i"
      },
      "source": [
        "\t\t\t# extract the face ROI, convert it from BGR to RGB channel\r\n",
        "\t\t\t# ordering, resize it to 224x224, and preprocess it\r\n",
        "\t\t\tface = frame[startY:endY, startX:endX]\r\n",
        "\t\t\tface = cv2.cvtColor(face, cv2.COLOR_BGR2RGB)\r\n",
        "\t\t\tface = cv2.resize(face, (224, 224))\r\n",
        "\t\t\tface = img_to_array(face)\r\n",
        "\t\t\tface = preprocess_input(face)\r\n",
        "\t\t\t# add the face and bounding boxes to their respective\r\n",
        "\t\t\t# lists\r\n",
        "\t\t\tfaces.append(face)\r\n",
        "\t\t\tlocs.append((startX, startY, endX, endY))"
      ],
      "execution_count": null,
      "outputs": []
    },
    {
      "cell_type": "code",
      "metadata": {
        "id": "8nxvp9_HBHBn"
      },
      "source": [
        "# only make a predictions if at least one face was detected\r\n",
        "\tif len(faces) > 0:\r\n",
        "\t\t# for faster inference we'll make batch predictions on *all*\r\n",
        "\t\t# faces at the same time rather than one-by-one predictions\r\n",
        "\t\t# in the above `for` loop\r\n",
        "\t\tfaces = np.array(faces, dtype=\"float32\")\r\n",
        "\t\tpreds = maskNet.predict(faces, batch_size=32)\r\n",
        "\t# return a 2-tuple of the face locations and their corresponding\r\n",
        "\t# locations\r\n",
        "\treturn (locs, preds)"
      ],
      "execution_count": null,
      "outputs": []
    },
    {
      "cell_type": "code",
      "metadata": {
        "id": "i7XFB3KTBJa6"
      },
      "source": [
        "# construct the argument parser and parse the arguments\r\n",
        "ap = argparse.ArgumentParser()\r\n",
        "ap.add_argument(\"-f\", \"--face\", type=str,\r\n",
        "\tdefault=\"face_detector\",\r\n",
        "\thelp=\"path to face detector model directory\")\r\n",
        "ap.add_argument(\"-m\", \"--model\", type=str,\r\n",
        "\tdefault=\"mask_detector.model\",\r\n",
        "\thelp=\"path to trained face mask detector model\")\r\n",
        "ap.add_argument(\"-c\", \"--confidence\", type=float, default=0.5,\r\n",
        "\thelp=\"minimum probability to filter weak detections\")\r\n",
        "args = vars(ap.parse_args())"
      ],
      "execution_count": null,
      "outputs": []
    },
    {
      "cell_type": "code",
      "metadata": {
        "id": "W5FLACfVBMri"
      },
      "source": [
        "# load our serialized face detector model from disk\r\n",
        "print(\"[INFO] loading face detector model...\")\r\n",
        "prototxtPath = os.path.sep.join([args[\"face\"], \"deploy.prototxt\"])\r\n",
        "weightsPath = os.path.sep.join([args[\"face\"],\r\n",
        "\t\"res10_300x300_ssd_iter_140000.caffemodel\"])\r\n",
        "faceNet = cv2.dnn.readNet(prototxtPath, weightsPath)\r\n",
        "# load the face mask detector model from disk\r\n",
        "print(\"[INFO] loading face mask detector model...\")\r\n",
        "maskNet = load_model(args[\"model\"])\r\n",
        "# initialize the video stream and allow the camera sensor to warm up\r\n",
        "print(\"[INFO] starting video stream...\")\r\n",
        "vs = VideoStream(src=0).start()\r\n",
        "time.sleep(2.0)"
      ],
      "execution_count": null,
      "outputs": []
    },
    {
      "cell_type": "code",
      "metadata": {
        "id": "OMrPbEezBPxy"
      },
      "source": [
        "# loop over the frames from the video stream\r\n",
        "while True:\r\n",
        "\t# grab the frame from the threaded video stream and resize it\r\n",
        "\t# to have a maximum width of 400 pixels\r\n",
        "\tframe = vs.read()\r\n",
        "\tframe = imutils.resize(frame, width=400)\r\n",
        "\t# detect faces in the frame and determine if they are wearing a\r\n",
        "\t# face mask or not\r\n",
        "\t(locs, preds) = detect_and_predict_mask(frame, faceNet, maskNet)"
      ],
      "execution_count": null,
      "outputs": []
    },
    {
      "cell_type": "code",
      "metadata": {
        "id": "KIRCudEZBSwW"
      },
      "source": [
        "\t# loop over the detected face locations and their corresponding\r\n",
        "\t# locations\r\n",
        "\tfor (box, pred) in zip(locs, preds):\r\n",
        "\t\t# unpack the bounding box and predictions\r\n",
        "\t\t(startX, startY, endX, endY) = box\r\n",
        "\t\t(mask, withoutMask) = pred\r\n",
        "\t\t# determine the class label and color we'll use to draw\r\n",
        "\t\t# the bounding box and text\r\n",
        "\t\tlabel = \"Mask\" if mask > withoutMask else \"No Mask\"\r\n",
        "\t\tcolor = (0, 255, 0) if label == \"Mask\" else (0, 0, 255)\r\n",
        "\t\t# include the probability in the label\r\n",
        "\t\tlabel = \"{}: {:.2f}%\".format(label, max(mask, withoutMask) * 100)\r\n",
        "\t\t# display the label and bounding box rectangle on the output\r\n",
        "\t\t# frame\r\n",
        "\t\tcv2.putText(frame, label, (startX, startY - 10),\r\n",
        "\t\t\tcv2.FONT_HERSHEY_SIMPLEX, 0.45, color, 2)\r\n",
        "\t\tcv2.rectangle(frame, (startX, startY), (endX, endY), color, 2)"
      ],
      "execution_count": null,
      "outputs": []
    },
    {
      "cell_type": "code",
      "metadata": {
        "id": "pzmdkp7cBVtC"
      },
      "source": [
        "# show the output frame\r\n",
        "\tcv2.imshow(\"Frame\", frame)\r\n",
        "\tkey = cv2.waitKey(1) & 0xFF\r\n",
        "\t# if the `q` key was pressed, break from the loop\r\n",
        "\tif key == ord(\"q\"):\r\n",
        "\t\tbreak\r\n",
        "# do a bit of cleanup\r\n",
        "cv2.destroyAllWindows()\r\n",
        "vs.stop()"
      ],
      "execution_count": null,
      "outputs": []
    },
    {
      "cell_type": "code",
      "metadata": {
        "id": "xeLlYO70BYS8"
      },
      "source": [
        "$ python detect_mask_video.py\r\n",
        "[INFO] loading face detector model...\r\n",
        "[INFO] loading face mask detector model...\r\n",
        "[INFO] starting video stream..."
      ],
      "execution_count": null,
      "outputs": []
    }
  ]
}